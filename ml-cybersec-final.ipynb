{
 "cells": [
  {
   "cell_type": "code",
   "execution_count": 6,
   "metadata": {},
   "outputs": [],
   "source": [
    "import librosa\n",
    "import numpy as np\n",
    "import pandas as pd\n"
   ]
  },
  {
   "cell_type": "code",
   "execution_count": null,
   "metadata": {},
   "outputs": [],
   "source": [
    "def extract_mfcc(audio_file):\n",
    "    y,sr = librosa.load(audio_file)\n",
    "    mfccs = np.mean(librosa.feature.mfcc(y=y,sr=sr).T, axis=0)\n",
    "    np.set_printoptions(linewidth=500)\n",
    "    return mfccs"
   ]
  },
  {
   "cell_type": "code",
   "execution_count": 3,
   "metadata": {},
   "outputs": [
    {
     "name": "stdout",
     "output_type": "stream",
     "text": [
      "[-177.19553     137.56978     -30.787819     29.981653    -10.835986     12.140928    -16.022245      2.575813    -15.628394     -8.44202     -12.032128    -15.764258     -0.74084914  -11.272659      3.2525835   -13.844691     -7.820741      3.65998     -10.536233    -10.254777  ]\n",
      "[-184.84773    121.67521    -43.255714    51.127403   -19.715673     4.0939927  -27.854925   -12.238566     3.568185    -1.4879526    3.2118964  -10.273731     5.965747    -7.739764    -5.578045    -7.4667997  -10.085554    -1.8637408   -8.283091    -6.4109764]\n"
     ]
    }
   ],
   "source": [
    "print(extract_mfcc('fake.wav'))\n",
    "print(extract_mfcc('real.wav'))"
   ]
  },
  {
   "cell_type": "code",
   "execution_count": 4,
   "metadata": {},
   "outputs": [],
   "source": [
    "import csv\n",
    "import os\n",
    "csv_file_training = 'training.csv'\n",
    "csv_file_validation = 'valid.csv'\n",
    "csv_file_test = 'test.csv'\n",
    "dataf = [[]]\n",
    "for f in os.listdir('archive/for-2sec/for-2seconds/training/fake'):\n",
    "    dataf.append([\"fake\",extract_mfcc('archive/for-2sec/for-2seconds/training/fake/'+ f)])\n",
    "for f in os.listdir('archive/for-2sec/for-2seconds/training/real'):\n",
    "    dataf.append([\"real\",extract_mfcc('archive/for-2sec/for-2seconds/training/real/'+ f)])\n",
    "\n",
    "with open(csv_file_training, mode='w',newline='') as file:\n",
    "    writer = csv.writer(file)\n",
    "    writer.writerows(dataf)\n",
    "    \n"
   ]
  },
  {
   "cell_type": "code",
   "execution_count": null,
   "metadata": {},
   "outputs": [],
   "source": [
    "dataf = [[]]\n",
    "for f in os.listdir('archive/for-2sec/for-2seconds/validation/fake'):\n",
    "    dataf.append([\"fake\",extract_mfcc('archive/for-2sec/for-2seconds/validation/fake/'+ f)])\n",
    "for f in os.listdir('archive/for-2sec/for-2seconds/validation/real'):\n",
    "    dataf.append([\"real\",extract_mfcc('archive/for-2sec/for-2seconds/validation/real/'+ f)])\n",
    "\n",
    "with open(csv_file_validation, mode='w',newline='') as file:\n",
    "    writer = csv.writer(file)\n",
    "    writer.writerows(dataf)\n",
    "    "
   ]
  }
 ],
 "metadata": {
  "kernelspec": {
   "display_name": "Python 3",
   "language": "python",
   "name": "python3"
  },
  "language_info": {
   "codemirror_mode": {
    "name": "ipython",
    "version": 3
   },
   "file_extension": ".py",
   "mimetype": "text/x-python",
   "name": "python",
   "nbconvert_exporter": "python",
   "pygments_lexer": "ipython3",
   "version": "3.12.4"
  }
 },
 "nbformat": 4,
 "nbformat_minor": 2
}
